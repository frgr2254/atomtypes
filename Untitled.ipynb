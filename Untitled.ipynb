{
 "cells": [
  {
   "cell_type": "code",
   "execution_count": 1,
   "metadata": {},
   "outputs": [],
   "source": [
    "import numpy as np"
   ]
  },
  {
   "cell_type": "code",
   "execution_count": 14,
   "metadata": {},
   "outputs": [],
   "source": [
    "data3 = np.genfromtxt('snapshot3.out',comments='#',dtype='S5')\n",
    "data4 = np.genfromtxt('snapshot3.out',comments='#',dtype='S5')\n",
    "data5 = np.genfromtxt('snapshot3.out',comments='#',dtype='S5')\n",
    "data6 = np.genfromtxt('snapshot3.out',comments='#',dtype='S5')\n",
    "data7 = np.genfromtxt('snapshot3.out',comments='#',dtype='S5')\n",
    "\n",
    "types3 = data3.T[1]\n",
    "types4 = data4.T[1]\n",
    "types5 = data5.T[1]\n",
    "types6 = data6.T[1]\n",
    "types7 = data7.T[1]"
   ]
  },
  {
   "cell_type": "code",
   "execution_count": null,
   "metadata": {},
   "outputs": [],
   "source": []
  },
  {
   "cell_type": "code",
   "execution_count": 17,
   "metadata": {},
   "outputs": [],
   "source": [
    "for i in range(len(types3)):\n",
    "    if types3[i] != types4[i]:\n",
    "        print('Atom {} chaged type from {} to {} between frame 3 and 4'.format(str(i),types3[i],types4[i]))\n",
    "    if types4[i] != types5[i]:\n",
    "        print('Atom {} chaged type from {} to {} between frame 4 and 5'.format(str(i),types4[i],types5[i]))"
   ]
  },
  {
   "cell_type": "code",
   "execution_count": null,
   "metadata": {},
   "outputs": [],
   "source": []
  }
 ],
 "metadata": {
  "kernelspec": {
   "display_name": "Python 3",
   "language": "python",
   "name": "python3"
  },
  "language_info": {
   "codemirror_mode": {
    "name": "ipython",
    "version": 3
   },
   "file_extension": ".py",
   "mimetype": "text/x-python",
   "name": "python",
   "nbconvert_exporter": "python",
   "pygments_lexer": "ipython3",
   "version": "3.7.4"
  }
 },
 "nbformat": 4,
 "nbformat_minor": 2
}
